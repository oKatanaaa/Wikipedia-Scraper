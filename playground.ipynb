{
 "cells": [
  {
   "cell_type": "code",
   "execution_count": 11,
   "metadata": {},
   "outputs": [],
   "source": [
    "from wiki_scraper import WikiLinksScraper\n",
    "from wiki_scraper import WikiPageScraper"
   ]
  },
  {
   "cell_type": "code",
   "execution_count": 12,
   "metadata": {},
   "outputs": [],
   "source": [
    "scraper1 = WikiLinksScraper(stride=2, n_max_links_per_index=100, n_processes=2)"
   ]
  },
  {
   "cell_type": "code",
   "execution_count": 13,
   "metadata": {},
   "outputs": [
    {
     "name": "stdout",
     "output_type": "stream",
     "text": [
      "CPU times: user 15.1 ms, sys: 21.1 ms, total: 36.1 ms\n",
      "Wall time: 3.64 s\n"
     ]
    }
   ],
   "source": [
    "%%time\n",
    "links = scraper1.run(['Aa', 'Ba', 'Ca'])"
   ]
  },
  {
   "cell_type": "code",
   "execution_count": 14,
   "metadata": {},
   "outputs": [
    {
     "data": {
      "text/plain": [
       "(527,\n",
       " ['https://en.wikipedia.org/wiki/Aa',\n",
       "  'https://en.wikipedia.org/wiki/Aa!_Megami-sama!',\n",
       "  'https://en.wikipedia.org/wiki/Aa!_Megamisama',\n",
       "  'https://en.wikipedia.org/wiki/Aa%27id_%27Abdullah_al-Qarni',\n",
       "  'https://en.wikipedia.org/wiki/Aa%27ku'])"
      ]
     },
     "execution_count": 14,
     "metadata": {},
     "output_type": "execute_result"
    }
   ],
   "source": [
    "len(links), links[:5]"
   ]
  },
  {
   "cell_type": "code",
   "execution_count": 15,
   "metadata": {},
   "outputs": [],
   "source": [
    "page_scraper = WikiPageScraper(n_processes=4)"
   ]
  },
  {
   "cell_type": "code",
   "execution_count": 16,
   "metadata": {},
   "outputs": [
    {
     "name": "stdout",
     "output_type": "stream",
     "text": [
      "CPU times: user 40.3 ms, sys: 30.3 ms, total: 70.6 ms\n",
      "Wall time: 19 s\n"
     ]
    }
   ],
   "source": [
    "%%time\n",
    "pages = page_scraper.run(links)"
   ]
  },
  {
   "cell_type": "code",
   "execution_count": 17,
   "metadata": {},
   "outputs": [
    {
     "data": {
      "text/plain": [
       "297"
      ]
     },
     "execution_count": 17,
     "metadata": {},
     "output_type": "execute_result"
    }
   ],
   "source": [
    "len(pages)"
   ]
  },
  {
   "cell_type": "code",
   "execution_count": 18,
   "metadata": {},
   "outputs": [
    {
     "data": {
      "text/plain": [
       "{'title': 'Intestinal arteries',\n",
       " 'text': ['The intestinal arteries arise from the convex side of the superior mesenteric artery. They are usually from twelve to fifteen in number, and are distributed to the jejunum and ileum.',\n",
       "  'They run nearly parallel with one another between the layers of the mesentery, each vessel dividing into two branches, which unite with adjacent branches, forming a series of arches (arterial arcades), the convexities of which are directed toward the intestine.',\n",
       "  'From this first set of arches branches arise, which unite with similar branches from above and below and thus a second series of arches is formed; from the lower branches of the artery, a third, a fourth, or even a fifth series of arches may be formed, diminishing in size the nearer they approach the intestine.',\n",
       "  'In the short, upper part of the mesentery only one set of arches exists, but as the depth of the mesentery increases, second, third, fourth, or even fifth groups are developed.',\n",
       "  'From the terminal arches numerous small straight vessels (vasa recta) arise which encircle the intestine, upon which they are distributed, ramifying between its coats.',\n",
       "  'From the intestinal arteries small branches are given off to the lymph glands and other structures between the layers of the mesentery.']}"
      ]
     },
     "execution_count": 18,
     "metadata": {},
     "output_type": "execute_result"
    }
   ],
   "source": [
    "pages[10]"
   ]
  },
  {
   "cell_type": "code",
   "execution_count": null,
   "metadata": {},
   "outputs": [],
   "source": []
  }
 ],
 "metadata": {
  "kernelspec": {
   "display_name": "Python 3.7.13 ('base')",
   "language": "python",
   "name": "python3"
  },
  "language_info": {
   "codemirror_mode": {
    "name": "ipython",
    "version": 3
   },
   "file_extension": ".py",
   "mimetype": "text/x-python",
   "name": "python",
   "nbconvert_exporter": "python",
   "pygments_lexer": "ipython3",
   "version": "3.7.13"
  },
  "orig_nbformat": 4,
  "vscode": {
   "interpreter": {
    "hash": "d4d1e4263499bec80672ea0156c357c1ee493ec2b1c70f0acce89fc37c4a6abe"
   }
  }
 },
 "nbformat": 4,
 "nbformat_minor": 2
}
