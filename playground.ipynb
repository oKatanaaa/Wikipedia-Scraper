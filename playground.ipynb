{
 "cells": [
  {
   "cell_type": "code",
   "execution_count": 1,
   "metadata": {},
   "outputs": [],
   "source": [
    "from links_scraper import WikiLinksScraper\n",
    "from page_scraper import WikiPageScraper"
   ]
  },
  {
   "cell_type": "code",
   "execution_count": 2,
   "metadata": {},
   "outputs": [],
   "source": [
    "scraper1 = WikiLinksScraper(stride=10, n_max_links_per_index=10, n_processes=2)"
   ]
  },
  {
   "cell_type": "code",
   "execution_count": 3,
   "metadata": {},
   "outputs": [
    {
     "name": "stdout",
     "output_type": "stream",
     "text": [
      "CPU times: user 28.3 ms, sys: 0 ns, total: 28.3 ms\n",
      "Wall time: 1.73 s\n"
     ]
    }
   ],
   "source": [
    "%%time\n",
    "links = scraper1.run(['Aa', 'Ba'])"
   ]
  },
  {
   "cell_type": "code",
   "execution_count": 4,
   "metadata": {},
   "outputs": [
    {
     "data": {
      "text/plain": [
       "(78,\n",
       " ['https://en.wikipedia.org/wiki/Aa',\n",
       "  'https://en.wikipedia.org/wiki/Aa,_Brynjar',\n",
       "  'https://en.wikipedia.org/wiki/Aa.',\n",
       "  'https://en.wikipedia.org/wiki/Aa._intercostales',\n",
       "  'https://en.wikipedia.org/wiki/Aa._palpebrales_mediales',\n",
       "  'https://en.wikipedia.org/wiki/Aa.com.tr',\n",
       "  'https://en.wikipedia.org/wiki/AaAaAA!!!_%E2%80%93_For_the_Awesome',\n",
       "  'https://en.wikipedia.org/wiki/AaB_Ishockey',\n",
       "  'https://en.wikipedia.org/wiki/Aa_(Indic)',\n",
       "  'https://en.wikipedia.org/wiki/Aa_12',\n",
       "  'https://en.wikipedia.org/wiki/Aa_Gale_Lag_Jaa_(film)',\n",
       "  'https://en.wikipedia.org/wiki/Aa_Open_de_Saint-Omer',\n",
       "  'https://en.wikipedia.org/wiki/Aa_Seishun',\n",
       "  'https://en.wikipedia.org/wiki/Aa_Yaky%C5%AB_Jinsei_Itchokusen',\n",
       "  'https://en.wikipedia.org/wiki/Aa_gradient',\n",
       "  'https://en.wikipedia.org/wiki/Aa_nervosa',\n",
       "  'https://en.wikipedia.org/wiki/Aa_uu',\n",
       "  'https://en.wikipedia.org/wiki/Aaaa_battery',\n",
       "  'https://en.wikipedia.org/wiki/AaaaaAAaaaAAAaaAAAAaAAAAA!!!_for_the_Awesome',\n",
       "  'https://en.wikipedia.org/wiki/Aaaaaaah',\n",
       "  'https://en.wikipedia.org/wiki/Aaagu',\n",
       "  'https://en.wikipedia.org/wiki/Aaahh!_Real_Monsters',\n",
       "  'https://en.wikipedia.org/wiki/Aaata_finchi',\n",
       "  'https://en.wikipedia.org/wiki/Aab_(Ice_hockey)',\n",
       "  'https://en.wikipedia.org/wiki/Aa',\n",
       "  'https://en.wikipedia.org/wiki/Aa,_Brynjar',\n",
       "  'https://en.wikipedia.org/wiki/Aa.',\n",
       "  'https://en.wikipedia.org/wiki/Aa._intercostales',\n",
       "  'https://en.wikipedia.org/wiki/Aa._palpebrales_mediales',\n",
       "  'https://en.wikipedia.org/wiki/Aa.com.tr',\n",
       "  'https://en.wikipedia.org/wiki/AaAaAA!!!_%E2%80%93_For_the_Awesome',\n",
       "  'https://en.wikipedia.org/wiki/AaB_Ishockey',\n",
       "  'https://en.wikipedia.org/wiki/Aa_(Indic)',\n",
       "  'https://en.wikipedia.org/wiki/Aa_12',\n",
       "  'https://en.wikipedia.org/wiki/Aa_Gale_Lag_Jaa_(film)',\n",
       "  'https://en.wikipedia.org/wiki/Aa_Open_de_Saint-Omer',\n",
       "  'https://en.wikipedia.org/wiki/Aa_Seishun',\n",
       "  'https://en.wikipedia.org/wiki/Aa_Yaky%C5%AB_Jinsei_Itchokusen',\n",
       "  'https://en.wikipedia.org/wiki/Aa_gradient',\n",
       "  'https://en.wikipedia.org/wiki/Aa_nervosa',\n",
       "  'https://en.wikipedia.org/wiki/Aa_uu',\n",
       "  'https://en.wikipedia.org/wiki/Aaaa_battery',\n",
       "  'https://en.wikipedia.org/wiki/AaaaaAAaaaAAAaaAAAAaAAAAA!!!_for_the_Awesome',\n",
       "  'https://en.wikipedia.org/wiki/Aaaaaaah',\n",
       "  'https://en.wikipedia.org/wiki/Aaagu',\n",
       "  'https://en.wikipedia.org/wiki/Aaahh!_Real_Monsters',\n",
       "  'https://en.wikipedia.org/wiki/Aaata_finchi',\n",
       "  'https://en.wikipedia.org/wiki/Aab_(Ice_hockey)',\n",
       "  'https://en.wikipedia.org/wiki/Ba',\n",
       "  'https://en.wikipedia.org/wiki/Ba%27_Kelalan',\n",
       "  'https://en.wikipedia.org/wiki/Ba%27al-Perazim',\n",
       "  'https://en.wikipedia.org/wiki/Ba%27al_HaLeshem',\n",
       "  'https://en.wikipedia.org/wiki/Ba%27al_Shem_of_London',\n",
       "  'https://en.wikipedia.org/wiki/Ba%27al_of_Tyre',\n",
       "  'https://en.wikipedia.org/wiki/Ba%27als',\n",
       "  'https://en.wikipedia.org/wiki/Ba%27ath_Arab_Socialist_Party',\n",
       "  'https://en.wikipedia.org/wiki/Ba%27ath_Party_(Jordan)',\n",
       "  'https://en.wikipedia.org/wiki/Ba%27ath_Party_ideology',\n",
       "  'https://en.wikipedia.org/wiki/Ba%27ath_takes_power_in_Syria_and_Iraq',\n",
       "  'https://en.wikipedia.org/wiki/Ba%27el',\n",
       "  'https://en.wikipedia.org/wiki/Ba%27kelalan_(airport)',\n",
       "  'https://en.wikipedia.org/wiki/Ba%27qa',\n",
       "  'https://en.wikipedia.org/wiki/Ba%27th_Party_-_Syria',\n",
       "  'https://en.wikipedia.org/wiki/Ba%27udeh-ye_Olya',\n",
       "  'https://en.wikipedia.org/wiki/Ba,_Ba_Black_Sheep',\n",
       "  'https://en.wikipedia.org/wiki/Ba-Da-Bing!_Records',\n",
       "  'https://en.wikipedia.org/wiki/Ba-Shu_scripts',\n",
       "  'https://en.wikipedia.org/wiki/Ba-midbar',\n",
       "  'https://en.wikipedia.org/wiki/Ba.82',\n",
       "  'https://en.wikipedia.org/wiki/BaAYlama',\n",
       "  'https://en.wikipedia.org/wiki/BaBr2',\n",
       "  'https://en.wikipedia.org/wiki/BaF2',\n",
       "  'https://en.wikipedia.org/wiki/BaKalanga_people',\n",
       "  'https://en.wikipedia.org/wiki/BaMalete',\n",
       "  'https://en.wikipedia.org/wiki/BaNovice',\n",
       "  'https://en.wikipedia.org/wiki/BaRaDuke',\n",
       "  'https://en.wikipedia.org/wiki/BaTi02',\n",
       "  'https://en.wikipedia.org/wiki/BaZ'])"
      ]
     },
     "execution_count": 4,
     "metadata": {},
     "output_type": "execute_result"
    }
   ],
   "source": [
    "len(links), links"
   ]
  },
  {
   "cell_type": "code",
   "execution_count": 5,
   "metadata": {},
   "outputs": [],
   "source": [
    "page_scraper = WikiPageScraper(n_processes=4)"
   ]
  },
  {
   "cell_type": "code",
   "execution_count": 6,
   "metadata": {},
   "outputs": [
    {
     "name": "stdout",
     "output_type": "stream",
     "text": [
      "CPU times: user 15 ms, sys: 21.9 ms, total: 36.8 ms\n",
      "Wall time: 3.34 s\n"
     ]
    }
   ],
   "source": [
    "%%time\n",
    "pages = page_scraper.run(links)"
   ]
  },
  {
   "cell_type": "code",
   "execution_count": 7,
   "metadata": {},
   "outputs": [
    {
     "data": {
      "text/plain": [
       "{'title': 'Barium titanate',\n",
       " 'text': ['Barium titanate (BTO) is an inorganic compound with chemical formula BaTiO3. Barium titanate appears white as a powder and is transparent when prepared as large crystals.  It is a ferroelectric, pyroelectric, and piezoelectric ceramic material that exhibits the photorefractive effect.  It is used in capacitors, electromechanical transducers and nonlinear optics.',\n",
       "  'The solid exists in one of four polymorphs depending on temperature. From high to low temperature, these crystal symmetries of the four polymorphs are cubic, tetragonal, orthorhombic and rhombohedral crystal structure. All of these phases exhibit the ferroelectric effect apart from the cubic phase.  The high temperature cubic phase is easiest to describe, as it consists of regular corner-sharing octahedral TiO6 units that define a cube with O vertices and Ti-O-Ti edges.  In the cubic phase, Ba2+ is located at the center of the cube, with a nominal coordination number of 12.  Lower symmetry phases are stabilized at lower temperatures and involve movement of the Ti4+ to off-center positions.  The remarkable properties of this material arise from the cooperative behavior of the Ti4+ distortions.[3]',\n",
       "  'Above the melting point, the liquid has a remarkably different local structure to the solid forms, with the majority of Ti4+ coordinated to four oxygen, in tetrahedral TiO4 units, which coexist with more highly coordinated units.[4]',\n",
       "  'Barium titanate can be synthesized by the relatively simple sol–hydrothermal method.[5] \\nBarium titanate can also be manufactured by heating barium carbonate and titanium dioxide.  The reaction proceeds via liquid phase sintering. Single crystals can be grown at around 1100\\xa0°C from molten potassium fluoride.[6]   Other materials are often added as dopants, e.g., Sr to form solid solutions with strontium titanate. It[clarification needed] reacts with nitrogen trichloride and produces a greenish or gray mixture; the ferroelectric properties of the mixture are still present in this form.',\n",
       "  \"Much effort has been spent studying the relationship between particle morphology and its properties. Barium titanate is one of the few ceramic compounds known to exhibit abnormal grain growth, in which large faceted grains grow in a matrix of finer grains, with profound implications on densification and physical properties.[7]   Fully dense nanocrystalline barium titanate has 40% higher permittivity than the same material prepared in classic ways.[8] The addition of inclusions of barium titanate to tin has been shown to produce a bulk material with a higher viscoelastic stiffness than that of diamonds. Barium titanate goes through two phase transitions that change the crystal shape and volume. This phase change leads to composites where the barium titanates have a negative bulk modulus (Young's modulus), meaning that when a force acts on the inclusions, there is displacement in the opposite direction, further stiffening the composite.[9]\",\n",
       "  'Like many oxides, barium titanate is insoluble in water but attacked by sulfuric acid. Its bulk room-temperature bandgap is 3.2 eV, but this increases to ~3.5 eV when the particle size is reduced from about 15 to 7\\xa0nm.[1]',\n",
       "  'Barium titanate is a dielectric ceramic used in capacitors, with dielectric constant values as high as 7,000. Over a narrow temperature range, values as high as 15,000 are possible; most common ceramic and polymer materials are less than 10, while others, such as titanium dioxide (TiO2), have values between 20 and 70.[11]',\n",
       "  'It is a piezoelectric material used in microphones and other transducers. The spontaneous polarization of barium titanate single crystals at room temperature range between 0.15\\xa0C/m2 in earlier studies,[12] and 0.26\\xa0C/m2 in more recent publications,[13] and its Curie temperature is between 120 and 130\\xa0°C. The differences are related to the growth technique, with earlier flux grown crystals being less pure than current crystals grown with the Czochralski process,[14] which therefore have a larger spontaneous polarization and a higher Curie temperature.',\n",
       "  'As a piezoelectric material, it has been largely replaced by lead zirconate titanate, also known as PZT. Polycrystalline barium titanate has a positive temperature coefficient of resistance, making it a useful material for thermistors and self-regulating electric heating systems.',\n",
       "  'Barium titanate crystals find use in nonlinear optics. The material has high beam-coupling gain, and can be operated at visible and near-infrared wavelengths. It has the highest reflectivity of the materials used for self-pumped phase conjugation (SPPC) applications. It can be used for continuous-wave four-wave mixing with milliwatt-range optical power. For photorefractive applications, barium titanate can be doped by various other elements, e.g. iron.[15]',\n",
       "  'Barium titanate is widely used in thermistors and positive temperature coefficient heating elements.  For these applications, barium  titanate is manufactured with dopants to give the material semiconductor properties. Specific applications include overcurrent protection for motors, ballasts for fluorescent lights, automobile cabin air heaters, and consumer space heaters.[17][18]',\n",
       "  'High-purity barium titanate powder is reported to be a key component of new barium titanate capacitor energy storage systems for use in electric vehicles.[19]',\n",
       "  'Due to their elevated biocompatibility, barium titanate nanoparticles (BTNPs) have been recently employed as nanocarriers for drug delivery.[20]']}"
      ]
     },
     "execution_count": 7,
     "metadata": {},
     "output_type": "execute_result"
    }
   ],
   "source": [
    "pages[-1]"
   ]
  },
  {
   "cell_type": "code",
   "execution_count": null,
   "metadata": {},
   "outputs": [],
   "source": []
  }
 ],
 "metadata": {
  "kernelspec": {
   "display_name": "Python 3.7.13 ('base')",
   "language": "python",
   "name": "python3"
  },
  "language_info": {
   "codemirror_mode": {
    "name": "ipython",
    "version": 3
   },
   "file_extension": ".py",
   "mimetype": "text/x-python",
   "name": "python",
   "nbconvert_exporter": "python",
   "pygments_lexer": "ipython3",
   "version": "3.7.13"
  },
  "orig_nbformat": 4,
  "vscode": {
   "interpreter": {
    "hash": "d4d1e4263499bec80672ea0156c357c1ee493ec2b1c70f0acce89fc37c4a6abe"
   }
  }
 },
 "nbformat": 4,
 "nbformat_minor": 2
}
